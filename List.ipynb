{
 "cells": [
  {
   "cell_type": "code",
   "execution_count": 1,
   "id": "e4dc4006",
   "metadata": {},
   "outputs": [],
   "source": [
    "def select_second(L):\n",
    "    if len(L) < 2:\n",
    "        return None\n",
    "    return L[1]"
   ]
  },
  {
   "cell_type": "code",
   "execution_count": 2,
   "id": "704ed546",
   "metadata": {},
   "outputs": [],
   "source": [
    "def losing_team_captain(teams):\n",
    "   \n",
    "    return teams[-1][1]"
   ]
  },
  {
   "cell_type": "code",
   "execution_count": 3,
   "id": "eaa3d9cb",
   "metadata": {},
   "outputs": [],
   "source": [
    "def purple_shell(racers):\n",
    "    temp = racers[0]\n",
    "    racers[0] = racers[-1]\n",
    "    racers[-1] = temp"
   ]
  },
  {
   "cell_type": "code",
   "execution_count": 4,
   "id": "e8acdde8",
   "metadata": {},
   "outputs": [],
   "source": [
    "a = [1, 2, 3]\n",
    "b = [1, [2, 3]]\n",
    "c = []\n",
    "d = [1, 2, 3][1:]\n",
    "\n",
    "lengths = [3,2,0,2]"
   ]
  },
  {
   "cell_type": "code",
   "execution_count": null,
   "id": "e13b8129",
   "metadata": {},
   "outputs": [],
   "source": []
  }
 ],
 "metadata": {
  "kernelspec": {
   "display_name": "Python 3 (ipykernel)",
   "language": "python",
   "name": "python3"
  },
  "language_info": {
   "codemirror_mode": {
    "name": "ipython",
    "version": 3
   },
   "file_extension": ".py",
   "mimetype": "text/x-python",
   "name": "python",
   "nbconvert_exporter": "python",
   "pygments_lexer": "ipython3",
   "version": "3.9.12"
  }
 },
 "nbformat": 4,
 "nbformat_minor": 5
}
