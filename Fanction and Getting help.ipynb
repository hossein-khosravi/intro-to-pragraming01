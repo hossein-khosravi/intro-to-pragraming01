{
 "cells": [
  {
   "cell_type": "code",
   "execution_count": 1,
   "id": "a4cce1f0",
   "metadata": {},
   "outputs": [],
   "source": [
    "def round_to_two_places(num):\n",
    "    return round(num, 2)"
   ]
  },
  {
   "cell_type": "code",
   "execution_count": 2,
   "id": "a4048832",
   "metadata": {},
   "outputs": [
    {
     "data": {
      "text/plain": [
       "-8.68"
      ]
     },
     "execution_count": 2,
     "metadata": {},
     "output_type": "execute_result"
    }
   ],
   "source": [
    "round_to_two_places(-8.6788899,)"
   ]
  },
  {
   "cell_type": "code",
   "execution_count": 3,
   "id": "f4cd8584",
   "metadata": {},
   "outputs": [],
   "source": [
    "def to_smash(total_candies):\n",
    "    \n",
    "    return total_candies % n_friends"
   ]
  },
  {
   "cell_type": "code",
   "execution_count": null,
   "id": "928a5246",
   "metadata": {},
   "outputs": [],
   "source": []
  }
 ],
 "metadata": {
  "kernelspec": {
   "display_name": "Python 3 (ipykernel)",
   "language": "python",
   "name": "python3"
  },
  "language_info": {
   "codemirror_mode": {
    "name": "ipython",
    "version": 3
   },
   "file_extension": ".py",
   "mimetype": "text/x-python",
   "name": "python",
   "nbconvert_exporter": "python",
   "pygments_lexer": "ipython3",
   "version": "3.9.12"
  }
 },
 "nbformat": 4,
 "nbformat_minor": 5
}
