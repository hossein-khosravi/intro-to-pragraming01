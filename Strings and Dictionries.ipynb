{
 "cells": [
  {
   "cell_type": "code",
   "execution_count": 1,
   "id": "ad0d6b02",
   "metadata": {},
   "outputs": [],
   "source": [
    "b = \"it's ok\"\n",
    "length = 7"
   ]
  },
  {
   "cell_type": "code",
   "execution_count": 2,
   "id": "19da70f1",
   "metadata": {},
   "outputs": [],
   "source": [
    "c = 'it\\'s ok'\n",
    "length = 7"
   ]
  },
  {
   "cell_type": "code",
   "execution_count": 3,
   "id": "a7db5516",
   "metadata": {},
   "outputs": [],
   "source": [
    "d = \"\"\"hey\"\"\"\n",
    "length = 3"
   ]
  },
  {
   "cell_type": "code",
   "execution_count": 4,
   "id": "2661f838",
   "metadata": {},
   "outputs": [],
   "source": [
    "e = '\\n'\n",
    "length = 1"
   ]
  },
  {
   "cell_type": "code",
   "execution_count": 5,
   "id": "352a8736",
   "metadata": {},
   "outputs": [],
   "source": [
    "def is_valid_zip(zip_code):\n",
    "    return len(zip_code) == 5 and zip_code.isdigit()"
   ]
  },
  {
   "cell_type": "code",
   "execution_count": 6,
   "id": "ded2a689",
   "metadata": {},
   "outputs": [],
   "source": [
    "def word_search(doc_list, keyword):\n",
    "    indices = [] \n",
    "    for i, doc in enumerate(doc_list):\n",
    "        # Split the string doc into a list of words (according to whitespace)\n",
    "        tokens = doc.split()\n",
    "        normalized = [token.rstrip('.,').lower() for token in tokens]\n",
    "        # Is there a match? If so, update the list of matching indices.\n",
    "        if keyword.lower() in normalized:\n",
    "            indices.append(i)\n",
    "    return indices"
   ]
  },
  {
   "cell_type": "code",
   "execution_count": 7,
   "id": "89c88fdb",
   "metadata": {},
   "outputs": [],
   "source": [
    "def multi_word_search(documents, keywords):\n",
    "    keyword_to_indices = {}\n",
    "    for keyword in keywords:\n",
    "        keyword_to_indices[keyword] = word_search(documents, keyword)\n",
    "    return keyword_to_indices"
   ]
  },
  {
   "cell_type": "code",
   "execution_count": null,
   "id": "7cf6a6a4",
   "metadata": {},
   "outputs": [],
   "source": []
  }
 ],
 "metadata": {
  "kernelspec": {
   "display_name": "Python 3 (ipykernel)",
   "language": "python",
   "name": "python3"
  },
  "language_info": {
   "codemirror_mode": {
    "name": "ipython",
    "version": 3
   },
   "file_extension": ".py",
   "mimetype": "text/x-python",
   "name": "python",
   "nbconvert_exporter": "python",
   "pygments_lexer": "ipython3",
   "version": "3.9.12"
  }
 },
 "nbformat": 4,
 "nbformat_minor": 5
}
